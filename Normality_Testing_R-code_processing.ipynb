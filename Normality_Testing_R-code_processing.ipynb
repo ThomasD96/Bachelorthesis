{
 "cells": [
  {
   "cell_type": "code",
   "execution_count": 1,
   "metadata": {},
   "outputs": [],
   "source": [
    "import pandas as pd\n",
    "import numpy as np\n",
    "import pandas_profiling \n",
    "import scipy as scipy\n",
    "from scipy import stats"
   ]
  },
  {
   "cell_type": "code",
   "execution_count": null,
   "metadata": {},
   "outputs": [],
   "source": [
    "data = pd.read_csv('my_df.csv')\n",
    "data = data.drop('Unnamed: 0', axis = 1)"
   ]
  },
  {
   "cell_type": "code",
   "execution_count": null,
   "metadata": {},
   "outputs": [],
   "source": [
    "data.set_index('Normality Tests', inplace=True)\n",
    "data = data.T"
   ]
  },
  {
   "cell_type": "code",
   "execution_count": null,
   "metadata": {},
   "outputs": [],
   "source": [
    "data = data.drop('Weisberg-Bingham test for normality', axis = 1)\n",
    "data = data.drop('Spiegelhalter test for normality', axis = 1)\n",
    "data = data.drop('Anscombe-Glynn kurtosis test', axis = 1)\n",
    "data = data.drop('Bonett-Seier test for Geary kurtosis', axis = 1)\n",
    "data = data.drop('Hegazy-Green test for normality', axis = 1)\n",
    "data = data.drop('Geary test for normality', axis = 1)\n",
    "data = data.drop('Minimum Hellinger Distance normality test', axis = 1)\n",
    "data = data.drop('Frosini test for normality', axis = 1)\n",
    "data = data.drop('Shapiro-Francia normality test', axis = 1)\n",
    "data = data.drop('Jarque-Bera test for normality', axis = 1)"
   ]
  },
  {
   "cell_type": "code",
   "execution_count": null,
   "metadata": {},
   "outputs": [],
   "source": [
    "data = data.rename(columns={'Adjusted Jarque-Bera test for normality': 'Adjusted Jarque-Bera Test', \n",
    "                            'Anderson-Darling normality test': 'Anderson-Darling Test', \n",
    "                            'Cramer-von Mises normality test': 'Cramer-von Mises Test',\n",
    "                            'Lilliefors (Kolmogorov-Smirnov) normality test': 'Lilliefors (Kolmogorov-Smirnov)', \n",
    "                            'Pearson chi-square normality test': 'Pearson chi-square Test', \n",
    "                            'Shapiro-Wilk normality test': 'Shapiro-Wilk Test'})"
   ]
  },
  {
   "cell_type": "code",
   "execution_count": null,
   "metadata": {},
   "outputs": [],
   "source": [
    "data = data.reset_index()\n",
    "data = data.rename(columns = {'index': 'Statistics'})\n",
    "data = data.round(4)"
   ]
  }
 ],
 "metadata": {
  "kernelspec": {
   "display_name": "Python 3",
   "language": "python",
   "name": "python3"
  },
  "language_info": {
   "codemirror_mode": {
    "name": "ipython",
    "version": 3
   },
   "file_extension": ".py",
   "mimetype": "text/x-python",
   "name": "python",
   "nbconvert_exporter": "python",
   "pygments_lexer": "ipython3",
   "version": "3.7.0"
  }
 },
 "nbformat": 4,
 "nbformat_minor": 2
}
