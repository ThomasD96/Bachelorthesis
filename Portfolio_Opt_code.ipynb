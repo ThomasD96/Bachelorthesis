{
 "cells": [
  {
   "cell_type": "code",
   "execution_count": 30,
   "metadata": {},
   "outputs": [
    {
     "data": {
      "text/html": [
       "<div>\n",
       "<style scoped>\n",
       "    .dataframe tbody tr th:only-of-type {\n",
       "        vertical-align: middle;\n",
       "    }\n",
       "\n",
       "    .dataframe tbody tr th {\n",
       "        vertical-align: top;\n",
       "    }\n",
       "\n",
       "    .dataframe thead th {\n",
       "        text-align: right;\n",
       "    }\n",
       "</style>\n",
       "<table border=\"1\" class=\"dataframe\">\n",
       "  <thead>\n",
       "    <tr style=\"text-align: right;\">\n",
       "      <th></th>\n",
       "      <th>BTC</th>\n",
       "      <th>LTC</th>\n",
       "      <th>DASH</th>\n",
       "      <th>XLM</th>\n",
       "      <th>XMR</th>\n",
       "      <th>XRP</th>\n",
       "      <th>WTI</th>\n",
       "      <th>DowJ</th>\n",
       "      <th>MSCI</th>\n",
       "      <th>SPAB</th>\n",
       "      <th>Gold</th>\n",
       "    </tr>\n",
       "    <tr>\n",
       "      <th>Date</th>\n",
       "      <th></th>\n",
       "      <th></th>\n",
       "      <th></th>\n",
       "      <th></th>\n",
       "      <th></th>\n",
       "      <th></th>\n",
       "      <th></th>\n",
       "      <th></th>\n",
       "      <th></th>\n",
       "      <th></th>\n",
       "      <th></th>\n",
       "    </tr>\n",
       "  </thead>\n",
       "  <tbody>\n",
       "    <tr>\n",
       "      <th>2015-01-02</th>\n",
       "      <td>315.21</td>\n",
       "      <td>2.66</td>\n",
       "      <td>1.72</td>\n",
       "      <td>0.005481</td>\n",
       "      <td>0.459137</td>\n",
       "      <td>0.024318</td>\n",
       "      <td>52.72</td>\n",
       "      <td>17832.990234</td>\n",
       "      <td>2095.67</td>\n",
       "      <td>28.14</td>\n",
       "      <td>1186.0</td>\n",
       "    </tr>\n",
       "    <tr>\n",
       "      <th>2015-01-05</th>\n",
       "      <td>274.84</td>\n",
       "      <td>2.11</td>\n",
       "      <td>1.60</td>\n",
       "      <td>0.004947</td>\n",
       "      <td>0.421412</td>\n",
       "      <td>0.020316</td>\n",
       "      <td>50.05</td>\n",
       "      <td>17501.650391</td>\n",
       "      <td>2083.38</td>\n",
       "      <td>28.16</td>\n",
       "      <td>1203.9</td>\n",
       "    </tr>\n",
       "    <tr>\n",
       "      <th>2015-01-06</th>\n",
       "      <td>282.27</td>\n",
       "      <td>2.10</td>\n",
       "      <td>1.60</td>\n",
       "      <td>0.004972</td>\n",
       "      <td>0.461609</td>\n",
       "      <td>0.020732</td>\n",
       "      <td>47.98</td>\n",
       "      <td>17371.640625</td>\n",
       "      <td>2074.66</td>\n",
       "      <td>28.18</td>\n",
       "      <td>1219.3</td>\n",
       "    </tr>\n",
       "    <tr>\n",
       "      <th>2015-01-07</th>\n",
       "      <td>291.34</td>\n",
       "      <td>2.11</td>\n",
       "      <td>1.60</td>\n",
       "      <td>0.005284</td>\n",
       "      <td>0.463607</td>\n",
       "      <td>0.020843</td>\n",
       "      <td>48.69</td>\n",
       "      <td>17584.519531</td>\n",
       "      <td>2051.12</td>\n",
       "      <td>28.12</td>\n",
       "      <td>1210.6</td>\n",
       "    </tr>\n",
       "    <tr>\n",
       "      <th>2015-01-08</th>\n",
       "      <td>282.69</td>\n",
       "      <td>2.00</td>\n",
       "      <td>1.60</td>\n",
       "      <td>0.005567</td>\n",
       "      <td>0.429175</td>\n",
       "      <td>0.020676</td>\n",
       "      <td>48.80</td>\n",
       "      <td>17907.869141</td>\n",
       "      <td>2061.41</td>\n",
       "      <td>28.14</td>\n",
       "      <td>1208.4</td>\n",
       "    </tr>\n",
       "  </tbody>\n",
       "</table>\n",
       "</div>"
      ],
      "text/plain": [
       "               BTC   LTC  DASH       XLM       XMR       XRP    WTI  \\\n",
       "Date                                                                  \n",
       "2015-01-02  315.21  2.66  1.72  0.005481  0.459137  0.024318  52.72   \n",
       "2015-01-05  274.84  2.11  1.60  0.004947  0.421412  0.020316  50.05   \n",
       "2015-01-06  282.27  2.10  1.60  0.004972  0.461609  0.020732  47.98   \n",
       "2015-01-07  291.34  2.11  1.60  0.005284  0.463607  0.020843  48.69   \n",
       "2015-01-08  282.69  2.00  1.60  0.005567  0.429175  0.020676  48.80   \n",
       "\n",
       "                    DowJ     MSCI   SPAB    Gold  \n",
       "Date                                              \n",
       "2015-01-02  17832.990234  2095.67  28.14  1186.0  \n",
       "2015-01-05  17501.650391  2083.38  28.16  1203.9  \n",
       "2015-01-06  17371.640625  2074.66  28.18  1219.3  \n",
       "2015-01-07  17584.519531  2051.12  28.12  1210.6  \n",
       "2015-01-08  17907.869141  2061.41  28.14  1208.4  "
      ]
     },
     "execution_count": 30,
     "metadata": {},
     "output_type": "execute_result"
    }
   ],
   "source": [
    "import pandas as pd\n",
    "from pypfopt.efficient_frontier import EfficientFrontier\n",
    "from pypfopt import risk_models\n",
    "from pypfopt import expected_returns\n",
    "\n",
    "# Read in price data\n",
    "df = pd.read_csv(\"data_assets_final.csv\", parse_dates=True, index_col=\"Date\")\n",
    "df = df.drop('Unnamed: 0', axis = 1)\n",
    "df.head()"
   ]
  },
  {
   "cell_type": "code",
   "execution_count": 31,
   "metadata": {},
   "outputs": [],
   "source": [
    "## Portfolio_1: Traditional Assets\n",
    "#df = df[['WTI', 'DowJ', 'MSCI', 'SPAB', 'Gold']]\n",
    "\n",
    "## Portfolio_2: Mixed-Assets\n",
    "df = df.copy()\n",
    "\n",
    "## Portfolio_3: Cryptos\n",
    "#df = df[['BTC', 'LTC', 'DASH', 'XLM', 'XMR', 'XRP']]"
   ]
  },
  {
   "cell_type": "code",
   "execution_count": 32,
   "metadata": {},
   "outputs": [
    {
     "name": "stdout",
     "output_type": "stream",
     "text": [
      "{'BTC': 0.03551, 'LTC': 0.04301, 'DASH': 0.0593, 'XLM': 0.02414, 'XMR': 0.09178, 'XRP': 0.0357, 'WTI': 0.0, 'DowJ': 0.47503, 'MSCI': 0.0, 'SPAB': 0.15112, 'Gold': 0.08441}\n",
      "Expected annual return: 65.2%\n",
      "Annual volatility: 30.5%\n",
      "Sharpe Ratio: 2.08\n"
     ]
    },
    {
     "data": {
      "text/plain": [
       "(0.6524161839475862, 0.30460207353517543, 2.0762044611444668)"
      ]
     },
     "execution_count": 32,
     "metadata": {},
     "output_type": "execute_result"
    }
   ],
   "source": [
    "# Calculate expected returns and sample covariance\n",
    "mu = expected_returns.mean_historical_return(df)\n",
    "S = risk_models.sample_cov(df)\n",
    "\n",
    "# Optimise for maximal Sharpe ratio\n",
    "ef = EfficientFrontier(mu, S)\n",
    "raw_weights = ef.max_sharpe()\n",
    "cleaned_weights = ef.clean_weights()\n",
    "print(cleaned_weights)\n",
    "ef.portfolio_performance(verbose=True)"
   ]
  },
  {
   "cell_type": "markdown",
   "metadata": {},
   "source": [
    "### References:\n",
    "https://github.com/robertmartin8/PyPortfolioOpt"
   ]
  }
 ],
 "metadata": {
  "kernelspec": {
   "display_name": "Python 3",
   "language": "python",
   "name": "python3"
  },
  "language_info": {
   "codemirror_mode": {
    "name": "ipython",
    "version": 3
   },
   "file_extension": ".py",
   "mimetype": "text/x-python",
   "name": "python",
   "nbconvert_exporter": "python",
   "pygments_lexer": "ipython3",
   "version": "3.7.0"
  }
 },
 "nbformat": 4,
 "nbformat_minor": 2
}
