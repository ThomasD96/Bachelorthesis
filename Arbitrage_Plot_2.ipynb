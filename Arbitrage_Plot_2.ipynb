{
 "cells": [
  {
   "cell_type": "code",
   "execution_count": 1,
   "metadata": {},
   "outputs": [],
   "source": [
    "import requests\n",
    "import matplotlib.pyplot as plt\n",
    "import pandas as pd\n",
    "import numpy as np"
   ]
  },
  {
   "cell_type": "code",
   "execution_count": 12,
   "metadata": {},
   "outputs": [],
   "source": [
    "link= \"https://api.cryptonator.com/api/full/btc-usd\""
   ]
  },
  {
   "cell_type": "code",
   "execution_count": 13,
   "metadata": {},
   "outputs": [],
   "source": [
    "data=requests.get(link).json()['ticker']['markets']"
   ]
  },
  {
   "cell_type": "code",
   "execution_count": 14,
   "metadata": {},
   "outputs": [],
   "source": [
    "markets=pd.DataFrame(data)"
   ]
  },
  {
   "cell_type": "code",
   "execution_count": 15,
   "metadata": {},
   "outputs": [
    {
     "data": {
      "text/html": [
       "<div>\n",
       "<style scoped>\n",
       "    .dataframe tbody tr th:only-of-type {\n",
       "        vertical-align: middle;\n",
       "    }\n",
       "\n",
       "    .dataframe tbody tr th {\n",
       "        vertical-align: top;\n",
       "    }\n",
       "\n",
       "    .dataframe thead th {\n",
       "        text-align: right;\n",
       "    }\n",
       "</style>\n",
       "<table border=\"1\" class=\"dataframe\">\n",
       "  <thead>\n",
       "    <tr style=\"text-align: right;\">\n",
       "      <th></th>\n",
       "      <th>market</th>\n",
       "      <th>price</th>\n",
       "      <th>volume</th>\n",
       "    </tr>\n",
       "  </thead>\n",
       "  <tbody>\n",
       "    <tr>\n",
       "      <th>0</th>\n",
       "      <td>Binance</td>\n",
       "      <td>6876.69000000</td>\n",
       "      <td>59502.4139</td>\n",
       "    </tr>\n",
       "    <tr>\n",
       "      <th>1</th>\n",
       "      <td>BitFinex</td>\n",
       "      <td>6869.00000000</td>\n",
       "      <td>28301.2149</td>\n",
       "    </tr>\n",
       "    <tr>\n",
       "      <th>2</th>\n",
       "      <td>Bitstamp</td>\n",
       "      <td>6899.57000000</td>\n",
       "      <td>17454.9070</td>\n",
       "    </tr>\n",
       "    <tr>\n",
       "      <th>3</th>\n",
       "      <td>Bittrex</td>\n",
       "      <td>6865.83384421</td>\n",
       "      <td>678.8377</td>\n",
       "    </tr>\n",
       "    <tr>\n",
       "      <th>4</th>\n",
       "      <td>Bleutrade</td>\n",
       "      <td>6782.51163600</td>\n",
       "      <td>0.0639</td>\n",
       "    </tr>\n",
       "    <tr>\n",
       "      <th>5</th>\n",
       "      <td>C-Cex</td>\n",
       "      <td>6326.00000000</td>\n",
       "      <td>0.0142</td>\n",
       "    </tr>\n",
       "    <tr>\n",
       "      <th>6</th>\n",
       "      <td>Cex.io</td>\n",
       "      <td>6845.60000000</td>\n",
       "      <td>716.8004</td>\n",
       "    </tr>\n",
       "    <tr>\n",
       "      <th>7</th>\n",
       "      <td>Coinbase Pro</td>\n",
       "      <td>6901.58000000</td>\n",
       "      <td>28456.8383</td>\n",
       "    </tr>\n",
       "    <tr>\n",
       "      <th>8</th>\n",
       "      <td>Exmo</td>\n",
       "      <td>6855.50000000</td>\n",
       "      <td>1067.7737</td>\n",
       "    </tr>\n",
       "    <tr>\n",
       "      <th>9</th>\n",
       "      <td>Hitbtc</td>\n",
       "      <td>6891.08903000</td>\n",
       "      <td>44.3816</td>\n",
       "    </tr>\n",
       "    <tr>\n",
       "      <th>10</th>\n",
       "      <td>IncoreX</td>\n",
       "      <td>6766.41000000</td>\n",
       "      <td>96.4663</td>\n",
       "    </tr>\n",
       "    <tr>\n",
       "      <th>11</th>\n",
       "      <td>Kraken</td>\n",
       "      <td>6897.40000000</td>\n",
       "      <td>15082.5071</td>\n",
       "    </tr>\n",
       "    <tr>\n",
       "      <th>12</th>\n",
       "      <td>Livecoin</td>\n",
       "      <td>6769.06376000</td>\n",
       "      <td>1386.2267</td>\n",
       "    </tr>\n",
       "    <tr>\n",
       "      <th>13</th>\n",
       "      <td>Poloniex</td>\n",
       "      <td>6855.67110001</td>\n",
       "      <td>1150.8667</td>\n",
       "    </tr>\n",
       "    <tr>\n",
       "      <th>14</th>\n",
       "      <td>YoBit</td>\n",
       "      <td>6883.90044798</td>\n",
       "      <td>213.5410</td>\n",
       "    </tr>\n",
       "  </tbody>\n",
       "</table>\n",
       "</div>"
      ],
      "text/plain": [
       "          market          price      volume\n",
       "0        Binance  6876.69000000  59502.4139\n",
       "1       BitFinex  6869.00000000  28301.2149\n",
       "2       Bitstamp  6899.57000000  17454.9070\n",
       "3        Bittrex  6865.83384421    678.8377\n",
       "4      Bleutrade  6782.51163600      0.0639\n",
       "5          C-Cex  6326.00000000      0.0142\n",
       "6         Cex.io  6845.60000000    716.8004\n",
       "7   Coinbase Pro  6901.58000000  28456.8383\n",
       "8           Exmo  6855.50000000   1067.7737\n",
       "9         Hitbtc  6891.08903000     44.3816\n",
       "10       IncoreX  6766.41000000     96.4663\n",
       "11        Kraken  6897.40000000  15082.5071\n",
       "12      Livecoin  6769.06376000   1386.2267\n",
       "13      Poloniex  6855.67110001   1150.8667\n",
       "14         YoBit  6883.90044798    213.5410"
      ]
     },
     "execution_count": 15,
     "metadata": {},
     "output_type": "execute_result"
    }
   ],
   "source": [
    "round(markets,4)"
   ]
  },
  {
   "cell_type": "code",
   "execution_count": 6,
   "metadata": {},
   "outputs": [],
   "source": [
    "markets.set_index('market', inplace = True)"
   ]
  },
  {
   "cell_type": "code",
   "execution_count": 8,
   "metadata": {},
   "outputs": [],
   "source": [
    "test.reset_index(inplace = True)"
   ]
  },
  {
   "cell_type": "code",
   "execution_count": 9,
   "metadata": {},
   "outputs": [],
   "source": [
    "labels=np.array(test['market'].values)               \n",
    "prices=np.array((test['price']).values,dtype='float64')  \n",
    "volumes=np.array(test['volume'].values,dtype='float64')"
   ]
  },
  {
   "cell_type": "code",
   "execution_count": 10,
   "metadata": {},
   "outputs": [],
   "source": [
    "x_values = markets[\"price\"]\n",
    "y_values = markets[\"volume\"]\n",
    "    \n",
    "min_price = markets[\"price\"].min()\n",
    "min_data = markets.loc[markets[\"price\"] == min_price]\n",
    "\n",
    "max_price = markets[\"price\"].max()\n",
    "max_data = markets.loc[markets[\"price\"] == max_price]"
   ]
  },
  {
   "cell_type": "code",
   "execution_count": 11,
   "metadata": {},
   "outputs": [
    {
     "data": {
      "image/png": "[encoded data removed]",
      "text/plain": [
       "<Figure size 1000x600 with 1 Axes>"
      ]
     },
     "metadata": {
      "needs_background": "light"
     },
     "output_type": "display_data"
    },
    {
     "name": "stdout",
     "output_type": "stream",
     "text": [
      "Minimum data of crypto\n",
      "                price   volume\n",
      "market                        \n",
      "C-Cex   6326.00000000  0.01415\n",
      "\n",
      "Maximum data of crypto\n",
      "                      price        volume\n",
      "market                                   \n",
      "Coinbase Pro  6902.14000000  28459.247153\n"
     ]
    }
   ],
   "source": [
    "plt.figure(num=None, figsize=(10, 6), dpi=100)     \n",
    "plt.scatter(prices,volumes)                       \n",
    "\n",
    "for label,price,volume in zip(labels,prices,volumes): \n",
    "    plt.annotate(label, xy=(price,volume),xytext=(5,-5), textcoords='offset points',fontsize=10)\n",
    "\n",
    "    plt.grid(True)    \n",
    "plt.xlabel('BTC Price')\n",
    "plt.ylabel('Volume')\n",
    "plt.title('Chart for BTC prices on exchanges')\n",
    "plt.show()\n",
    "\n",
    "print(\"Minimum data of crypto\")\n",
    "print(min_data)\n",
    "print()\n",
    "print(\"Maximum data of crypto\")\n",
    "print(max_data)"
   ]
  },
  {
   "cell_type": "code",
   "execution_count": null,
   "metadata": {},
   "outputs": [],
   "source": []
  }
 ],
 "metadata": {
  "kernelspec": {
   "display_name": "Python 3",
   "language": "python",
   "name": "python3"
  },
  "language_info": {
   "codemirror_mode": {
    "name": "ipython",
    "version": 3
   },
   "file_extension": ".py",
   "mimetype": "text/x-python",
   "name": "python",
   "nbconvert_exporter": "python",
   "pygments_lexer": "ipython3",
   "version": "3.7.0"
  }
 },
 "nbformat": 4,
 "nbformat_minor": 2
}
